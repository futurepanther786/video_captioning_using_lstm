Initial content for video_capt_code.ipynb
Work done on 2024-05-04T22:30:00
Work done on 2024-05-04T19:40:00
